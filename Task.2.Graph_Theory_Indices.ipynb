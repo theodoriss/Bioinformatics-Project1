{
 "cells": [
  {
   "cell_type": "code",
   "execution_count": 1,
   "metadata": {},
   "outputs": [],
   "source": [
    "import numpy as np\n",
    "import matplotlib.pyplot as plt\n",
    "import networkx as nx"
   ]
  },
  {
   "cell_type": "code",
   "execution_count": 2,
   "metadata": {},
   "outputs": [],
   "source": [
    "def read_files(run):\n",
    "    G_pdc = nx.read_gpickle(\"saved_graphs/{}_pdc_binary_complete.gpickle\".format(run))\n",
    "    G_dtf = nx.read_gpickle(\"saved_graphs/{}_dtf_binary_complete.gpickle\".format(run))\n",
    "    G_pdc_weighted = nx.read_gpickle(\"saved_graphs/{}_pdc_weighted_complete.gpickle\".format(run))\n",
    "    return G_pdc, G_dtf, G_pdc_weighted"
   ]
  },
  {
   "cell_type": "code",
   "execution_count": 3,
   "metadata": {},
   "outputs": [],
   "source": [
    "run1 = \"S071_S071R01\"\n",
    "run2 = \"S071_S071R02\""
   ]
  },
  {
   "cell_type": "code",
   "execution_count": 4,
   "metadata": {},
   "outputs": [],
   "source": [
    "run1_pdc, run1_dtf, run1_pdc_weighted = read_files(run1)\n",
    "run2_pdc, run2_dtf, run2_pdc_weighted = read_files(run2)"
   ]
  },
  {
   "cell_type": "markdown",
   "metadata": {},
   "source": [
    "## 2.1"
   ]
  },
  {
   "cell_type": "code",
   "execution_count": 5,
   "metadata": {},
   "outputs": [],
   "source": [
    "def calculate_indices(graph, global_only=False, weight=None):\n",
    "    # global clustering coefficient\n",
    "    print(\"Global Clustering Coefficient\", nx.average_clustering(graph, weight=weight), \"\\n\")\n",
    "    \n",
    "    # global path length\n",
    "    print(\"Global Path Length\", nx.average_shortest_path_length(graph, weight=weight), \"\\n\")\n",
    "    \n",
    "    if not global_only:\n",
    "        # local indegree indices\n",
    "        in_degree = dict(graph.in_degree())\n",
    "        in_degree_sorted = sorted(in_degree.items(), key=lambda kv: kv[1], reverse=True)\n",
    "        print(\"Top Indegree indices\")\n",
    "        print(\"\\n\".join(map(lambda node: \"{}: {}\".format(node[0], node[1]), in_degree_sorted[:10])), \"\\n\")\n",
    "\n",
    "        # local outdegree indices\n",
    "        out_degree = dict(graph.out_degree())\n",
    "        out_degree_sorted = sorted(out_degree.items(), key=lambda kv: kv[1], reverse=True)\n",
    "        print(\"Top Outdegree indices\")\n",
    "        print(\"\\n\".join(map(lambda node: \"{}: {}\".format(node[0], node[1]), out_degree_sorted[:10])))"
   ]
  },
  {
   "cell_type": "markdown",
   "metadata": {},
   "source": [
    "### RUN S071_S071R01"
   ]
  },
  {
   "cell_type": "code",
   "execution_count": 6,
   "metadata": {},
   "outputs": [
    {
     "name": "stdout",
     "output_type": "stream",
     "text": [
      "Global Clustering Coefficient 0.3304588268990529 \n",
      "\n",
      "Global Path Length 0.22842261904761904 \n",
      "\n",
      "Top Indegree indices\n",
      "T9: 28\n",
      "P6: 25\n",
      "P8: 24\n",
      "P3: 23\n",
      "T10: 21\n",
      "Po4: 21\n",
      "Cp5: 20\n",
      "Cp6: 20\n",
      "Tp8: 20\n",
      "P1: 19 \n",
      "\n",
      "Top Outdegree indices\n",
      "Af7: 63\n",
      "Af8: 63\n",
      "Fp1: 62\n",
      "Fpz: 62\n",
      "Fp2: 62\n",
      "P7: 53\n",
      "Af3: 47\n",
      "Af4: 47\n",
      "Afz: 41\n",
      "Cp3: 40\n"
     ]
    }
   ],
   "source": [
    "calculate_indices(run1_pdc)"
   ]
  },
  {
   "cell_type": "markdown",
   "metadata": {},
   "source": [
    "### RUN S071_S071R02"
   ]
  },
  {
   "cell_type": "code",
   "execution_count": 7,
   "metadata": {},
   "outputs": [
    {
     "name": "stdout",
     "output_type": "stream",
     "text": [
      "Global Clustering Coefficient 0.28247631348358426 \n",
      "\n",
      "Global Path Length 1.3980654761904763 \n",
      "\n",
      "Top Indegree indices\n",
      "P6: 53\n",
      "C6: 34\n",
      "Cp6: 34\n",
      "Po8: 31\n",
      "Po4: 30\n",
      "T9: 25\n",
      "P3: 25\n",
      "T10: 24\n",
      "Cp5: 23\n",
      "Cp4: 23 \n",
      "\n",
      "Top Outdegree indices\n",
      "Cp1: 62\n",
      "Cpz: 62\n",
      "P7: 57\n",
      "Fc4: 49\n",
      "Cp3: 48\n",
      "Af7: 43\n",
      "Cz: 42\n",
      "Fp1: 38\n",
      "Fp2: 32\n",
      "Af8: 30\n"
     ]
    }
   ],
   "source": [
    "calculate_indices(run2_pdc)"
   ]
  },
  {
   "cell_type": "markdown",
   "metadata": {},
   "source": [
    "## 2.3"
   ]
  },
  {
   "cell_type": "code",
   "execution_count": 8,
   "metadata": {},
   "outputs": [
    {
     "name": "stdout",
     "output_type": "stream",
     "text": [
      "Global Clustering Coefficient 0.2565012250450105 \n",
      "\n",
      "Global Path Length 0.2140376984126984 \n",
      "\n"
     ]
    }
   ],
   "source": [
    "# RUN 1\n",
    "calculate_indices(run1_dtf, global_only=True)"
   ]
  },
  {
   "cell_type": "code",
   "execution_count": 9,
   "metadata": {},
   "outputs": [
    {
     "name": "stdout",
     "output_type": "stream",
     "text": [
      "Global Clustering Coefficient 0.26332529923362225 \n",
      "\n",
      "Global Path Length 1.2472718253968254 \n",
      "\n"
     ]
    }
   ],
   "source": [
    "# RUN 2\n",
    "calculate_indices(run2_dtf, global_only=True)"
   ]
  },
  {
   "cell_type": "markdown",
   "metadata": {},
   "source": [
    "## 2.4"
   ]
  },
  {
   "cell_type": "code",
   "execution_count": 10,
   "metadata": {},
   "outputs": [],
   "source": [
    "densities = [1,5,10,20,30,50]"
   ]
  },
  {
   "cell_type": "code",
   "execution_count": 11,
   "metadata": {},
   "outputs": [],
   "source": [
    "def read_density_networks(run):\n",
    "    networks = []\n",
    "    for i in range(len(densities)):\n",
    "        n = nx.read_gpickle(\"saved_graphs/{}_pdc_{}.gpickle\".format(run, densities[i]))\n",
    "        networks.append(n)\n",
    "    return networks\n",
    "\n",
    "def average_path_length(n):\n",
    "    try:\n",
    "        return nx.average_shortest_path_length(n)   \n",
    "    # if graph is not connected\n",
    "    except nx.NetworkXError:\n",
    "        return 0\n",
    "    "
   ]
  },
  {
   "cell_type": "code",
   "execution_count": 12,
   "metadata": {},
   "outputs": [],
   "source": [
    "networks_run1 = read_density_networks(run1)\n",
    "networks_run2 = read_density_networks(run2)"
   ]
  },
  {
   "cell_type": "code",
   "execution_count": 13,
   "metadata": {},
   "outputs": [
    {
     "data": {
      "image/png": "[encoded data removed]",
      "text/plain": [
       "<Figure size 576x432 with 1 Axes>"
      ]
     },
     "metadata": {
      "needs_background": "light"
     },
     "output_type": "display_data"
    }
   ],
   "source": [
    "# clustering coefficient\n",
    "gcc = [nx.average_clustering(n) for n in networks_run1]\n",
    "# path length\n",
    "gpl = [average_path_length(n) for n in networks_run1]\n",
    "\n",
    "# plt.title(\"Dependency of global indices on network density\")\n",
    "plt.figure(1, figsize=(8,6)) \n",
    "plt.plot(densities, gcc, label=\"Clustering coefficient\")\n",
    "plt.plot(densities, gpl, label=\"Path length\")\n",
    "plt.xticks(densities)\n",
    "plt.legend()\n",
    "plt.show()"
   ]
  },
  {
   "cell_type": "code",
   "execution_count": 14,
   "metadata": {},
   "outputs": [
    {
     "data": {
      "image/png": "[encoded data removed]",
      "text/plain": [
       "<Figure size 576x432 with 1 Axes>"
      ]
     },
     "metadata": {
      "needs_background": "light"
     },
     "output_type": "display_data"
    }
   ],
   "source": [
    "# clustering coefficient\n",
    "gcc = [nx.average_clustering(n) for n in networks_run2]\n",
    "# path length\n",
    "gpl = [average_path_length(n) for n in networks_run2]\n",
    "\n",
    "# plt.title(\"Dependency of global indices on network density\")\n",
    "plt.figure(1, figsize=(8,6)) \n",
    "plt.plot(densities, gcc, label=\"Clustering coefficient\")\n",
    "plt.plot(densities, gpl, label=\"Path length\")\n",
    "plt.xticks(densities)\n",
    "plt.legend()\n",
    "plt.show()"
   ]
  },
  {
   "cell_type": "markdown",
   "metadata": {},
   "source": [
    "## 2.7"
   ]
  },
  {
   "cell_type": "code",
   "execution_count": 15,
   "metadata": {},
   "outputs": [
    {
     "name": "stdout",
     "output_type": "stream",
     "text": [
      "Global Clustering Coefficient 0.20934144916362213 \n",
      "\n",
      "Global Path Length 0.08950230451078688 \n",
      "\n"
     ]
    }
   ],
   "source": [
    "calculate_indices(run1_pdc_weighted, global_only=True, weight=\"weight\")"
   ]
  },
  {
   "cell_type": "code",
   "execution_count": 16,
   "metadata": {},
   "outputs": [
    {
     "name": "stdout",
     "output_type": "stream",
     "text": [
      "Global Clustering Coefficient 0.31113908429646214 \n",
      "\n",
      "Global Path Length 0.07405300760095199 \n",
      "\n"
     ]
    }
   ],
   "source": [
    "calculate_indices(run2_pdc_weighted, global_only=True, weight=\"weight\")"
   ]
  }
 ],
 "metadata": {
  "kernelspec": {
   "display_name": "Python 3",
   "language": "python",
   "name": "python3"
  },
  "language_info": {
   "codemirror_mode": {
    "name": "ipython",
    "version": 3
   },
   "file_extension": ".py",
   "mimetype": "text/x-python",
   "name": "python",
   "nbconvert_exporter": "python",
   "pygments_lexer": "ipython3",
   "version": "3.7.5"
  }
 },
 "nbformat": 4,
 "nbformat_minor": 2
}
